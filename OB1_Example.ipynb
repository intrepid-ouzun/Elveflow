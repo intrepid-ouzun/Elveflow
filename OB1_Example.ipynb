{
 "cells": [
  {
   "cell_type": "code",
   "execution_count": 1,
   "id": "7023168b",
   "metadata": {},
   "outputs": [],
   "source": [
    "import sys\n",
    "from _ast import Load\n",
    "sys.path.append('C:/Users/oykuz/ESI_V3_10_02/SDK_V3_10_01/SDK_V3_10_01/DLL/DLL64')#add the path to Elveflow64.lib here\n",
    "sys.path.append('C:/Users/oykuz/ESI_V3_10_02/SDK_V3_10_01/SDK_V3_10_01/DLL/Python/Python_64')#add the path of the Elveflow64.py\n",
    "\n",
    "from ctypes import *\n",
    "\n",
    "from array import array\n",
    "\n",
    "from Elveflow64 import *\n"
   ]
  },
  {
   "cell_type": "code",
   "execution_count": 3,
   "id": "57103c76",
   "metadata": {},
   "outputs": [
    {
     "name": "stdout",
     "output_type": "stream",
     "text": [
      "Instrument name and regulator types are hardcoded in the Python script\n",
      "error:0\n",
      "OB1 ID: 0\n"
     ]
    }
   ],
   "source": [
    "#\n",
    "# Initialization of OB1 ( ! ! ! REMEMBER TO USE .encode('ascii') ! ! ! )\n",
    "#\n",
    "Instr_ID=c_int32()\n",
    "print(\"Instrument name and regulator types are hardcoded in the Python script\")\n",
    "#see User Guide to determine regulator types and NIMAX to determine the instrument name \n",
    "error=OB1_Initialization('OB1_113433'.encode('ascii'),0,0,0,0,byref(Instr_ID)) \n",
    "#all functions will return error codes to help you to debug your code, for further information refer to User Guide\n",
    "print('error:%d' % error)\n",
    "print(\"OB1 ID: %d\" % Instr_ID.value)\n"
   ]
  },
  {
   "cell_type": "code",
   "execution_count": 4,
   "id": "973a8b56",
   "metadata": {},
   "outputs": [
    {
     "name": "stdout",
     "output_type": "stream",
     "text": [
      "error add digit flow sensor:0\n"
     ]
    }
   ],
   "source": [
    "# inputs are: (InstrID, channel = [1,4], sensor type = 5, calibration = 1 (IPA)/0 (water) digital = 1, resolution = 7, 5V default sensor voltage)\n",
    "# sensor type 5 is for flow sensor 1000 uL/min (MFS4+) \n",
    "# resolution = 7 for 16 bit \n",
    "error=OB1_Add_Sens(Instr_ID, 1, 5, 1, 1, 7, 0) \n",
    "print('error add digit flow sensor:%d' % error)\n"
   ]
  },
  {
   "cell_type": "code",
   "execution_count": 5,
   "id": "377aa508",
   "metadata": {},
   "outputs": [],
   "source": [
    "#\n",
    "#Set the calibration type\n",
    "#\n",
    "repeat=True\n",
    "while repeat==True:\n",
    "    answer=input('select calibration type (default, load, new ) : ')\n",
    "\n",
    "    Calib_path='C:\\\\Users\\\\oykuz\\\\Calibration\\\\Calib.txt'\n",
    "    \n",
    "    if answer=='default':\n",
    "        repeat=False\n",
    "    if answer=='load':\n",
    "        error=OB1_Calib_Load (Instr_ID.value, Calib_path.encode('ascii'))\n",
    "        repeat=False\n",
    "        \n",
    "    if answer=='new':\n",
    "        OB1_Calib (Instr_ID.value)\n",
    "        error=OB1_Calib_Save(Instr_ID.value, Calib_path.encode('ascii'))\n",
    "        print ('calib saved in %s' % Calib_path.encode('ascii'))\n",
    "        repeat=False\n"
   ]
  },
  {
   "cell_type": "code",
   "execution_count": 6,
   "id": "edabd59e",
   "metadata": {},
   "outputs": [
    {
     "name": "stdout",
     "output_type": "stream",
     "text": [
      "Regulator/Sensors:  1.89 ;  -4.41\n",
      "error : 0\n",
      "trigger low\n",
      "error : 0\n",
      "error : 0\n",
      "trigger low\n",
      "error : 0\n",
      "Regulator/Sensors:  2.01 ;  -4.41\n",
      "error : 0\n",
      "error : 0\n"
     ]
    }
   ],
   "source": [
    "\n",
    "#\n",
    "#Main loop\n",
    "#\n",
    "    \n",
    "repeat=True\n",
    "while repeat:\n",
    "    answer=input('what to do (set_p, get_trig, set_trig, add_pid, read_channel, set_sensor or exit) : ')\n",
    "    if answer=='set_p':\n",
    "        set_channel=input(\"select channel(1-4) : \")\n",
    "        set_channel=int(set_channel)#convert to int\n",
    "        set_channel=c_int32(set_channel)#convert to c_int32\n",
    "        set_pressure=input(\"select pressure (-1000 to 8000 mbars) : \")\n",
    "        set_pressure=float(set_pressure) \n",
    "        set_pressure=c_double(set_pressure)#convert to c_double\n",
    "        error=OB1_Set_Press(Instr_ID.value, set_channel, set_pressure) \n",
    "        \n",
    "    if answer==\"get_trig\":\n",
    "        trigger_ext=c_int32()  \n",
    "        error=OB1_Get_Trig(Instr_ID, byref(trigger_ext))\n",
    "        if trigger_ext.value==1:\n",
    "            print('trigger high')\n",
    "        else: \n",
    "            print('trigger low')\n",
    "            \n",
    "    if answer==\"set_trig\":\n",
    "        trigger_int_val=input(\"set trigger value (high=1, low=0): \")\n",
    "        trigger_int_val=int(trigger_int_val)#convert to int\n",
    "        trigger_int_val=c_int32(trigger_int_val)#convert to c_int32\n",
    "        error=OB1_Set_Trig(Instr_ID, trigger_int_val)\n",
    "\n",
    "    if answer=='add_pid':\n",
    "        set_channel_regulator=input(\"select channel regulator (1-4) : \")\n",
    "        set_channel_regulator=int(set_channel_regulator)#convert to int\n",
    "        set_channel_regulator=c_int32(set_channel_regulator)#convert to c_int32\n",
    "        set_channel_sensor=input(\"select channel sensor (1-4) : \")\n",
    "        set_channel_sensor=int(set_channel_sensor)#convert to int\n",
    "        set_channel_sensor=c_int32(set_channel_sensor)#convert to c_int32\n",
    "        error=PID_Add_Remote(Instr_ID.value, set_channel_regulator, Instr_ID.value, set_channel_sensor,0.1,0.3,1) \n",
    "\n",
    "            \n",
    "    if answer==\"read_channel\":\n",
    "        data_sens=c_double()\n",
    "        data_reg=c_double()\n",
    "        set_channel=input(\"select channel(1-4) : \")\n",
    "        set_channel=int(set_channel)#convert to int\n",
    "        set_channel=c_int32(set_channel)#convert to c_int32\n",
    "        error=OB1_Get_Data(Instr_ID.value,set_channel, byref(data_reg),byref(data_sens))\n",
    "        print('Regulator/Sensors: ', data_reg.value,'; ',data_sens.value)\n",
    "\n",
    "    if answer=='set_sensor':\n",
    "        set_channel=input(\"select channel(1-4) : \")\n",
    "        set_channel=int(set_channel)#convert to int\n",
    "        set_channel=c_int32(set_channel)#convert to c_int32\n",
    "        set_target=input(\"select sensor target : \")\n",
    "        set_target=float(set_target) \n",
    "        set_target=c_double(set_target)#convert to c_double\n",
    "        error=OB1_Set_Sens(Instr_ID.value, set_channel, set_target) \n",
    "\n",
    "    if answer=='exit':\n",
    "        repeat=False\n",
    "    \n",
    "    print( 'error :', error)\n",
    "        \n",
    "#UPDATE\n",
    "#stop measurement\n",
    "\n",
    "error=OB1_Destructor(Instr_ID.value)"
   ]
  },
  {
   "cell_type": "code",
   "execution_count": null,
   "id": "b4713593",
   "metadata": {},
   "outputs": [],
   "source": [
    "]"
   ]
  }
 ],
 "metadata": {
  "kernelspec": {
   "display_name": "Python 3",
   "language": "python",
   "name": "python3"
  },
  "language_info": {
   "codemirror_mode": {
    "name": "ipython",
    "version": 3
   },
   "file_extension": ".py",
   "mimetype": "text/x-python",
   "name": "python",
   "nbconvert_exporter": "python",
   "pygments_lexer": "ipython3",
   "version": "3.11.0"
  }
 },
 "nbformat": 4,
 "nbformat_minor": 5
}
